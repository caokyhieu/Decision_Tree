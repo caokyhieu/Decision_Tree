{
 "cells": [
  {
   "cell_type": "code",
   "execution_count": 1,
   "metadata": {
    "collapsed": true
   },
   "outputs": [],
   "source": [
    "import numpy as np\n",
    "import pandas as pd"
   ]
  },
  {
   "cell_type": "code",
   "execution_count": 2,
   "metadata": {
    "collapsed": true
   },
   "outputs": [],
   "source": [
    "# def calc_info_gain(data,classes,feature):\n",
    "#     gain = 0\n",
    "#     nData = len(data)\n",
    "#     # List the values that feature can take\n",
    "#     values =[]\n",
    "#     for datapoint in data:\n",
    "#         if datapoint[feature] not in values:\n",
    "#             values.append(datapoint[feature])\n",
    "    \n",
    "#     featureCounts = np.zeros(len(values))\n",
    "#     entropy = np.zeros(len(values))\n",
    "#     valueIndex = 0\n",
    "#     #Find where those values appear in data[feature] and the corresponding class\n",
    "#     for value in values:\n",
    "#         dataIndex = 0\n",
    "#         newClasses = []\n",
    "#         for datapoint in data:\n",
    "#             if datapoint[feature] == value:\n",
    "#                 featureCounts[valueIndex]+=1\n",
    "#                 newClasses.append(classes[dataIndex])\n",
    "#             dataIndex +=1\n",
    "#         # Get the values in newClasses\n",
    "#         classValues = []\n",
    "#         for aclass in newClasses:\n",
    "#             if classValues.count(aclass)==0:\n",
    "#                 classValues.append(aclass)\n",
    "#         classCounts = np.zeros(len(classValues))\n",
    "#         classIndex = 0\n",
    "#         for classValue in classValues:\n",
    "#             for aclass in newClasses:\n",
    "#                 if aclass == classValue:\n",
    "#                     classCounts[classIndex] +=1\n",
    "#             classIndex +=1\n",
    "            \n",
    "#         for classIndex in range(len(classValues)):\n",
    "#             entropy[valueIndex] += calc_entropy(float(classCounts[classIndex])/sum(classCounts))\n",
    "#         gain += float(featureCounts[valueIndex])/nData*entropy[valueIndex]\n",
    "#         valueIndex += 1\n",
    "#     return gain\n"
   ]
  },
  {
   "cell_type": "code",
   "execution_count": 3,
   "metadata": {
    "collapsed": true
   },
   "outputs": [],
   "source": [
    "# def findPath(graph,start,end,pathSoFar):\n",
    "#     pathSoFar = pathSoFar + [start]\n",
    "#     if start == end:\n",
    "#         return pathSoFar\n",
    "#     if start not in graph:\n",
    "#         return None\n",
    "#     for node in graph[start]:\n",
    "#         if node not in pathSoFar:\n",
    "#             newpath = findPath(graph,node,end,pathSoFar)\n",
    "#             return newpath\n",
    "#     return None"
   ]
  },
  {
   "cell_type": "code",
   "execution_count": 4,
   "metadata": {
    "collapsed": true
   },
   "outputs": [],
   "source": [
    "# def make_tree(data,classes,featureNames):\n",
    "#     #Various initialisations suppressed\n",
    "#     default = classes[np.argmax(frequency)]\n",
    "#     if nData ==0 or nFeatures ==0:\n",
    "#         #Have reach empty branch\n",
    "#         return default\n",
    "#     elif classes.count(classes[0]) == nData:\n",
    "#         #Only one class remain\n",
    "#         return classes[0]\n",
    "#     else:\n",
    "#         #Choose which feature is best\n",
    "#         gain = np.zeros(nFeatures)\n",
    "#         for feature in range(nFeatures):\n",
    "#             g = calc_info_gain(data,classes,feature)\n",
    "#             gain[feature] = totalEntropy -g\n",
    "#         bestFeature = np.argmax(gain)\n",
    "#         tree = {featureNames[bestFeature]:{}}\n",
    "#         #Find the possible feature values\n",
    "#         for value in values:\n",
    "#             # Find the datapoints with each feature value\n",
    "#             for datapoint in data:\n",
    "#                 if datapoint[bestFeature] == value:\n",
    "#                     if bestFeature ==0:\n",
    "#                         datapoint = datapoint[1:]\n",
    "#                         newnames = featureNames[1:]\n",
    "#                     elif bestFeature == nFeatures:\n",
    "#                         datapoint = datapoint[:-1]\n",
    "#                         newNames = featureNames[:-1]\n",
    "#                     else:\n",
    "#                         datapoint = datapoint[:bestFeature]\n",
    "#                         datapoint.extend(datapoint[bestFeature+1:])\n",
    "#                         newNames = featureNames[:bestFeature]\n",
    "#                         newNames.extend(featureNames[bestFeature+1:])\n",
    "#                     newData.append(datapoint)\n",
    "#                     newClasses.append(classes[index])\n",
    "#                 index+=1\n",
    "#             #Now recurse to the next level\n",
    "#             subtree = make_tree(newData,newClasses,newNames)\n",
    "#             # And on returning, add the subtree on to the tree\n",
    "#             tree[featureNames[bestFeature]][value] = subtree\n",
    "#         return tree"
   ]
  },
  {
   "cell_type": "code",
   "execution_count": 5,
   "metadata": {
    "collapsed": true
   },
   "outputs": [],
   "source": [
    "class Node:\n",
    "    def __init__(self,index,classes,label,depth=0,attribute=None,valueNames=None):\n",
    "        self.feature = attribute\n",
    "        self.values = valueNames\n",
    "        self.index = index\n",
    "        self.classes = classes\n",
    "        self.valueNode = {}\n",
    "        self.depth = depth\n",
    "        \n",
    "    def subnode(self, node,value):\n",
    "        self.valueNode[value] = node\n"
   ]
  },
  {
   "cell_type": "code",
   "execution_count": 6,
   "metadata": {
    "collapsed": true
   },
   "outputs": [],
   "source": [
    "class Tree:\n",
    "    \n",
    "    def __init__(self,data,classes,label,max_depth):\n",
    "        self.head = Node(data.index,classes,label)\n",
    "        self.leaves = [self.head]\n",
    "        self.max_depth = max_depth\n",
    "        \n",
    "    \n",
    "    def branch(self,leaf,data,label,attr): \n",
    "        leaf.feature = attr\n",
    "        leaf.values = set(data.iloc[leaf.index][leaf.feature])\n",
    "        indexes = data.iloc[leaf.index].groupby([leaf.feature]).groups\n",
    "        for name, index in indexes.items():\n",
    "            classes = dict(data.iloc[index][label].value_counts())\n",
    "            if len(classes) > 0:\n",
    "                node = Node(index,classes,label,depth=leaf.depth+1)\n",
    "                leaf.subnode(node,name)\n",
    "                self.leaves.append(node)\n",
    "        self.leaves.remove(leaf)\n",
    "        \n",
    "    \n",
    "    def predict(self,data):\n",
    "        predict = []\n",
    "        for i in data.index:\n",
    "  \n",
    "            start = self.head\n",
    "            while start.feature!=None:\n",
    "                val = data.iloc[i][start.feature]\n",
    "                if val in start.valueNode.keys():\n",
    "                    start = start.valueNode[val]\n",
    "                else:\n",
    "                    break\n",
    "            \n",
    "            bClass = int()\n",
    "            nClass = -1\n",
    "            \n",
    "            for i,j in start.classes.items():\n",
    "                if j>nClass:\n",
    "                    nClass = j\n",
    "                    bClass = i\n",
    "            predict.append(bClass)\n",
    "        return np.array(predict)\n",
    "    \n",
    "    def calc_accuracy(self,predict,label):\n",
    "        return (sum(label==predict)/len(label))\n",
    "        "
   ]
  },
  {
   "cell_type": "code",
   "execution_count": 7,
   "metadata": {
    "collapsed": true
   },
   "outputs": [],
   "source": [
    "def calc_info_gain(data,label,feature):\n",
    "    entropyS = data[[label]].apply(calc_entropy)\n",
    "    featureCount = data.groupby([feature]).count().values[:,0]\n",
    "    weights = featureCount/sum(featureCount)\n",
    "    en = sum(data.groupby([feature])[label].apply(calc_entropy)* weights)\n",
    "    gain = entropyS - en\n",
    "    return gain[0]\n",
    "    "
   ]
  },
  {
   "cell_type": "code",
   "execution_count": 8,
   "metadata": {
    "collapsed": true
   },
   "outputs": [],
   "source": [
    "def calc_entropy(data):\n",
    "    values = set(data)\n",
    "    count = {}\n",
    "    for value in values:\n",
    "        count[value] = 0\n",
    "    for i in data:\n",
    "        count[i]+=1\n",
    "    counts = np.array(list(count.values()))\n",
    "    p =list(counts/sum(counts))\n",
    "    e = 0\n",
    "    for i in p:\n",
    "        if i!=0:\n",
    "            e += -i * np.log2(i)     \n",
    "    return e"
   ]
  },
  {
   "cell_type": "code",
   "execution_count": 9,
   "metadata": {},
   "outputs": [],
   "source": [
    "def best_feature(dic):\n",
    "    max_ = np.max(list(dic.values()))\n",
    "    for key,value in dic.items():\n",
    "        if value == max_:\n",
    "            return key\n",
    "    return None"
   ]
  },
  {
   "cell_type": "code",
   "execution_count": 10,
   "metadata": {},
   "outputs": [],
   "source": [
    "def build_tree(data,features,label):\n",
    "    classes = dict(data[label].value_counts())\n",
    "    tree = Tree(data,classes,label,max_depth=6)\n",
    "    position = 0\n",
    "    \n",
    "    while position <len(tree.leaves):\n",
    "\n",
    "        leaf = tree.leaves[position]\n",
    "        if (len(leaf.classes)<=1) or (len(data.iloc[leaf.index])<=1) or (leaf.depth >=tree.max_depth):\n",
    "            position += 1\n",
    "        else:\n",
    "            dic_gain = {}\n",
    "            for feature in features:\n",
    "                info_gain = calc_info_gain(data[[feature,label]],label,feature)\n",
    "                if (info_gain >5e-4) and (data.iloc[leaf.index][[feature]].apply(calc_entropy)[0]!=0):\n",
    "                    dic_gain[feature] = info_gain\n",
    "                    \n",
    "            if len(dic_gain) >0:\n",
    "                bFeature = best_feature(dic_gain)\n",
    "                tree.branch(leaf,data,label,bFeature)\n",
    "            else:\n",
    "                position += 1\n",
    "    return tree"
   ]
  },
  {
   "cell_type": "code",
   "execution_count": 11,
   "metadata": {
    "collapsed": true
   },
   "outputs": [],
   "source": [
    "# # Test tree\n",
    "# a=Tree(df,['bad','good','normal'],'label')\n",
    "# label = 'label'\n",
    "# features = set(df.columns)-{'label'}\n",
    "# dic_gain = {}\n",
    "# for feature in features:\n",
    "#     dic_gain[feature] = calc_info_gain(df[[feature,label]],label,feature)\n",
    "# name = -1\n",
    "# m = 0\n",
    "# for i ,j in dic_gain.items():\n",
    "#     if j>m:\n",
    "#         m = j\n",
    "#         name = i\n",
    "# best_feature = name\n",
    "# a.branch(tree.head,df,label,best_feature)"
   ]
  },
  {
   "cell_type": "code",
   "execution_count": 12,
   "metadata": {
    "collapsed": true
   },
   "outputs": [],
   "source": [
    "train_df = pd.read_csv(\"data/train.csv\")\n",
    "test_df = pd.read_csv('data/test.csv')"
   ]
  },
  {
   "cell_type": "code",
   "execution_count": 13,
   "metadata": {
    "collapsed": true
   },
   "outputs": [],
   "source": [
    "train_df = train_df.drop(['Cabin','PassengerId','Name','Fare','Ticket'],axis=1)\n",
    "\n",
    "train_df[['Embarked']] = train_df[['Embarked']].fillna(train_df['Embarked'].mode()[0])\n",
    "train_df[['Age']] = train_df[['Age']].fillna(train_df['Age'].mean())\n",
    "test_df[['Embarked']] = test_df[['Embarked']].fillna(train_df['Embarked'].mode()[0])\n",
    "\n",
    "test_df[['Age']] = test_df[['Age']].fillna(train_df['Age'].mean())\n",
    "test_df = test_df.drop(['Cabin','PassengerId','Name','Fare','Ticket'],axis=1)\n",
    "\n",
    "\n",
    "train_df[['Parch']]= pd.cut(train_df['Parch'],3,labels=[1,2,3])\n",
    "train_df[['Age']]= pd.cut(train_df['Age'],4,labels=[1,2,3,4])\n",
    "train_df[['SibSp']] = pd.cut(train_df['SibSp'],3,labels=[1,2,3])\n",
    "\n",
    "\n",
    "test_df[['Parch']]= pd.cut(test_df['Parch'],3,labels=[1,2,3])\n",
    "test_df[['Age']]= pd.cut(test_df['Age'],4,labels=[1,2,3,4])\n",
    "test_df[['SibSp']] = pd.cut(test_df['SibSp'],3,labels=[1,2,3])"
   ]
  },
  {
   "cell_type": "code",
   "execution_count": 14,
   "metadata": {
    "collapsed": true
   },
   "outputs": [],
   "source": [
    "# def categorical_age(x):\n",
    "#     if x<16:\n",
    "#         return 'Child'\n",
    "#     elif x<40:\n",
    "#         return 'young'\n",
    "#     elif x<60:\n",
    "#         return 'growup'\n",
    "#     else:\n",
    "#         return 'old'\n",
    "\n",
    "# train_df[['Age']] = train_df[['Age']].applymap(categorical_age)\n",
    "# test_df[['Age']] = test_df[['Age']].fillna(test_df.mean())\n",
    "# test_df[['Age']] = test_df[['Age']].applymap(categorical)"
   ]
  },
  {
   "cell_type": "code",
   "execution_count": 15,
   "metadata": {},
   "outputs": [
    {
     "data": {
      "text/plain": [
       "0.8181818181818182"
      ]
     },
     "execution_count": 15,
     "metadata": {},
     "output_type": "execute_result"
    }
   ],
   "source": [
    "tree = build_tree(train_df,set(train_df.columns)-{'Survived'},'Survived')\n",
    "tree.calc_accuracy(tree.predict(train_df),train_df['Survived'])"
   ]
  },
  {
   "cell_type": "code",
   "execution_count": 16,
   "metadata": {
    "collapsed": true
   },
   "outputs": [],
   "source": [
    "sub = pd.read_csv(\"data/gender_submission.csv\")\n",
    "sub = sub.drop(['PassengerId'],axis=1)"
   ]
  },
  {
   "cell_type": "code",
   "execution_count": 17,
   "metadata": {},
   "outputs": [
    {
     "data": {
      "text/plain": [
       "array([1])"
      ]
     },
     "execution_count": 17,
     "metadata": {},
     "output_type": "execute_result"
    }
   ],
   "source": [
    "data = {k:[v] for k,v in dict(test_df.iloc[48]).items()}\n",
    "dataframe = pd.DataFrame(data = data)\n",
    "# for i in dataframe.index:\n",
    "#     print(i)\n",
    "#     print(dataframe.iloc[i])\n",
    "tree.predict(dataframe)"
   ]
  },
  {
   "cell_type": "code",
   "execution_count": 18,
   "metadata": {
    "scrolled": false
   },
   "outputs": [
    {
     "data": {
      "text/plain": [
       "0.8899521531100478"
      ]
     },
     "execution_count": 18,
     "metadata": {},
     "output_type": "execute_result"
    }
   ],
   "source": [
    "tree.calc_accuracy(tree.predict(test_df),sub['Survived'])"
   ]
  },
  {
   "cell_type": "code",
   "execution_count": 19,
   "metadata": {
    "scrolled": true
   },
   "outputs": [],
   "source": [
    "def visit(node):\n",
    "    parent=node\n",
    "    "
   ]
  },
  {
   "cell_type": "code",
   "execution_count": 20,
   "metadata": {},
   "outputs": [],
   "source": [
    "for i in tree.leaves:\n",
    "    if len(i.classes)==0:\n",
    "        print(i)"
   ]
  },
  {
   "cell_type": "code",
   "execution_count": 21,
   "metadata": {},
   "outputs": [],
   "source": [
    "def visit(x):\n",
    "    if x.feature==None or len(x.valueNode)==0:\n",
    "        return\n",
    "    else:\n",
    "        print(x.feature)\n",
    "        for i in x.valueNode.values():\n",
    "            visit(i)\n",
    "        \n",
    "        "
   ]
  },
  {
   "cell_type": "code",
   "execution_count": 22,
   "metadata": {},
   "outputs": [],
   "source": [
    "for i in tree.leaves:\n",
    "    if len(i.classes)==0 and i.depth==1:\n",
    "        print(i)"
   ]
  },
  {
   "cell_type": "code",
   "execution_count": 23,
   "metadata": {},
   "outputs": [],
   "source": [
    "from graphviz import Digraph"
   ]
  },
  {
   "cell_type": "code",
   "execution_count": 24,
   "metadata": {
    "collapsed": true
   },
   "outputs": [],
   "source": [
    "dot = Digraph(comment='The Round Table')"
   ]
  },
  {
   "cell_type": "code",
   "execution_count": 25,
   "metadata": {},
   "outputs": [],
   "source": [
    "dot.node('A', 'King Arthur')\n",
    "dot.node('B', 'Sir Bedevere the Wise')\n",
    "dot.node('L', 'Sir Lancelot the Brave')\n",
    "dot.edges(['AB', 'AL'])\n",
    "dot.edge('B', 'L', constraint='false')"
   ]
  }
 ],
 "metadata": {
  "kernelspec": {
   "display_name": "Python 3",
   "language": "python",
   "name": "python3"
  },
  "language_info": {
   "codemirror_mode": {
    "name": "ipython",
    "version": 3
   },
   "file_extension": ".py",
   "mimetype": "text/x-python",
   "name": "python",
   "nbconvert_exporter": "python",
   "pygments_lexer": "ipython3",
   "version": "3.6.1"
  }
 },
 "nbformat": 4,
 "nbformat_minor": 2
}
